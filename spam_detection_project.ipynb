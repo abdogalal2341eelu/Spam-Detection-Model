{
 "cells": [
  {
   "cell_type": "code",
   "execution_count": null,
   "id": "39df50cf",
   "metadata": {},
   "outputs": [],
   "source": [
    "from google.colab import drive\n",
    "drive.mount('/content/drive')"
   ]
  },
  {
   "cell_type": "code",
   "execution_count": null,
   "id": "ae950827",
   "metadata": {},
   "outputs": [],
   "source": [
    "\n",
    "import numpy as np\n",
    "import pandas as pd\n",
    "from sklearn.model_selection import train_test_split\n",
    "from sklearn.feature_extraction.text import CountVectorizer, TfidfVectorizer\n",
    "from sklearn.ensemble import RandomForestClassifier\n",
    "from sklearn.metrics import accuracy_score, classification_report, confusion_matrix, precision_score, recall_score, f1_score\n",
    "import re\n",
    "import string\n",
    "from nltk.corpus import stopwords\n",
    "from nltk.tokenize import word_tokenize\n",
    "from nltk.stem import PorterStemmer\n",
    "import nltk\n",
    "\n",
    "nltk.download(\"punkt\")\n",
    "nltk.download(\"stopwords\")\n"
   ]
  },
  {
   "cell_type": "code",
   "execution_count": null,
   "id": "564f974c",
   "metadata": {},
   "outputs": [],
   "source": [
    "\n",
    "def preprocess_text(text):\n",
    "    if pd.isna(text) or not isinstance(text, str):\n",
    "        return \"\"\n",
    "    text = text.lower()\n",
    "    text = re.sub(r'\\d+', '', text)\n",
    "    text = text.translate(str.maketrans('', '', string.punctuation))\n",
    "    tokens = word_tokenize(text)\n",
    "    stop_words = set(stopwords.words('english'))\n",
    "    tokens = [word for word in tokens if word not in stop_words]\n",
    "    stemmer = PorterStemmer()\n",
    "    tokens = [stemmer.stem(word) for word in tokens]\n",
    "    return ' '.join(tokens)\n"
   ]
  },
  {
   "cell_type": "code",
   "execution_count": null,
   "id": "4849978d",
   "metadata": {},
   "outputs": [],
   "source": [
    "\n",
    "data = pd.read_csv('/content/drive/MyDrive/Colab Notebooks/spam_Emails_data.csv', encoding='latin1')\n",
    "data['text'] = data['text'].apply(preprocess_text)\n"
   ]
  },
  {
   "cell_type": "code",
   "execution_count": null,
   "id": "2a446f7e",
   "metadata": {},
   "outputs": [],
   "source": [
    "\n",
    "X = data['text']\n",
    "y = data['label']\n",
    "vectorizer = CountVectorizer()\n",
    "X_vectorized = vectorizer.fit_transform(X)\n",
    "\n",
    "X_train, X_test, y_train, y_test = train_test_split(X_vectorized, y, test_size=0.2, random_state=42)\n"
   ]
  },
  {
   "cell_type": "code",
   "execution_count": null,
   "id": "f881ec5b",
   "metadata": {},
   "outputs": [],
   "source": [
    "\n",
    "rf_model = RandomForestClassifier(n_estimators=100, random_state=42)\n",
    "rf_model.fit(X_train, y_train)\n"
   ]
  },
  {
   "cell_type": "code",
   "execution_count": null,
   "id": "0135d145",
   "metadata": {},
   "outputs": [],
   "source": [
    "\n",
    "y_pred = rf_model.predict(X_test)\n",
    "\n",
    "conf_matrix = confusion_matrix(y_test, y_pred)\n",
    "accuracy = accuracy_score(y_test, y_pred)\n",
    "precision = precision_score(y_test, y_pred, average='weighted')\n",
    "recall = recall_score(y_test, y_pred, average='weighted')\n",
    "f1 = f1_score(y_test, y_pred, average='weighted')\n",
    "\n",
    "print(\"Confusion Matrix:\")\n",
    "print(conf_matrix)\n",
    "print(\"\\nAccuracy:\", accuracy)\n",
    "print(\"Precision:\", precision)\n",
    "print(\"Recall:\", recall)\n",
    "print(\"F1 Score:\", f1)\n"
   ]
  },
  {
   "cell_type": "code",
   "execution_count": null,
   "id": "6ee8aa59",
   "metadata": {},
   "outputs": [],
   "source": [
    "\n",
    "def predict_new_text(new_texts, model):\n",
    "    new_texts_preprocessed = [preprocess_text(text) for text in new_texts]\n",
    "    new_texts_vectorized = vectorizer.transform(new_texts_preprocessed)\n",
    "    predictions = rf_model.predict(new_texts_vectorized)\n",
    "    predicted_labels = ['spam' if prediction == 1 else 'ham' for prediction in predictions]\n",
    "    print(\"Predicted labels:\", predicted_labels)\n",
    "    return predicted_labels\n",
    "\n",
    "def predict_new_texts(new_texts, rf_model, vectorizer):\n",
    "    new_texts = [preprocess_text(text) for text in new_texts]\n",
    "    new_texts_vectorized = vectorizer.transform(new_texts)\n",
    "    return rf_model.predict(new_texts_vectorized)\n",
    "\n",
    "new_emails = [\n",
    "    \"Please join the team meeting on Monday at 10 AM in the conference room. We'll discuss our progress and next steps.\",\n",
    "    \"Book your dream vacation now and save up to 70% on travel costs. Limited time offer!\"\n",
    "]\n",
    "\n",
    "predictions = predict_new_texts(new_emails, rf_model, vectorizer)\n",
    "for email, prediction in zip(new_emails, predictions):\n",
    "    print(f'Email: {email}\\nPrediction: {prediction}\\n')\n"
   ]
  },
  {
   "cell_type": "code",
   "execution_count": null,
   "id": "214810fd",
   "metadata": {},
   "outputs": [],
   "source": [
    "\n",
    "import joblib\n",
    "joblib.dump(rf_model, 'rndf_model.joblib')\n",
    "\n",
    "import pickle\n",
    "with open('vectorizer.pkl', 'wb') as f:\n",
    "    pickle.dump(vectorizer, f)\n",
    "with open('rndf_model.pkl', 'wb') as f:\n",
    "    pickle.dump(rf_model, f)\n"
   ]
  }
 ],
 "metadata": {},
 "nbformat": 4,
 "nbformat_minor": 5
}